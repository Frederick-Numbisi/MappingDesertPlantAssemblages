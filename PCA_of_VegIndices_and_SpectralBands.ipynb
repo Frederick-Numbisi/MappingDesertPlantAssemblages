{
  "cells": [
    {
      "cell_type": "markdown",
      "metadata": {
        "id": "view-in-github",
        "colab_type": "text"
      },
      "source": [
        "<a href=\"https://colab.research.google.com/github/Frederick-Numbisi/MappingDesertPlantAssemblages/blob/main/PCA_of_VegIndices_and_SpectralBands.ipynb\" target=\"_parent\"><img src=\"https://colab.research.google.com/assets/colab-badge.svg\" alt=\"Open In Colab\"/></a>"
      ]
    },
    {
      "cell_type": "code",
      "execution_count": null,
      "metadata": {
        "id": "GSB-xC1k78EM",
        "colab": {
          "base_uri": "https://localhost:8080/",
          "height": 17
        },
        "outputId": "44e26655-3fda-4680-b9c3-eece72e8bb00"
      },
      "outputs": [
        {
          "output_type": "display_data",
          "data": {
            "text/plain": [
              "<IPython.core.display.HTML object>"
            ],
            "text/html": [
              "\n",
              "            <style>\n",
              "                .geemap-dark {\n",
              "                    --jp-widgets-color: white;\n",
              "                    --jp-widgets-label-color: white;\n",
              "                    --jp-ui-font-color1: white;\n",
              "                    --jp-layout-color2: #454545;\n",
              "                    background-color: #383838;\n",
              "                }\n",
              "                    \n",
              "                .geemap-dark .jupyter-button {\n",
              "                    --jp-layout-color3: #383838;\n",
              "                }\n",
              "                \n",
              "                .geemap-colab {\n",
              "                    background-color: var(--colab-primary-surface-color, white);\n",
              "                }\n",
              "                    \n",
              "                .geemap-colab .jupyter-button {\n",
              "                    --jp-layout-color3: var(--colab-primary-surface-color, white);\n",
              "                }\n",
              "            </style>\n",
              "            "
            ]
          },
          "metadata": {}
        }
      ],
      "source": [
        "# Google Colab Project for Calculating vegetation indices for AlUla Project\n",
        "\n",
        "import ee\n",
        "try:\n",
        "        ee.Initialize()\n",
        "except Exception as e:\n",
        "        ee.Authenticate()\n",
        "        ee.Initialize(project='tropvegclass') # Specify project"
      ]
    },
    {
      "cell_type": "code",
      "execution_count": null,
      "metadata": {
        "id": "95RL-r5L7JJu"
      },
      "outputs": [],
      "source": [
        "!pip install earthengine-api #earth-engine Python API\n",
        "!pip install geemap"
      ]
    },
    {
      "cell_type": "code",
      "execution_count": null,
      "metadata": {
        "id": "6nMbzMTZ8jyn",
        "colab": {
          "base_uri": "https://localhost:8080/",
          "height": 17
        },
        "outputId": "7f2f4a73-833f-4046-d3e2-196784284b4e"
      },
      "outputs": [
        {
          "output_type": "display_data",
          "data": {
            "text/plain": [
              "<IPython.core.display.HTML object>"
            ],
            "text/html": [
              "\n",
              "            <style>\n",
              "                .geemap-dark {\n",
              "                    --jp-widgets-color: white;\n",
              "                    --jp-widgets-label-color: white;\n",
              "                    --jp-ui-font-color1: white;\n",
              "                    --jp-layout-color2: #454545;\n",
              "                    background-color: #383838;\n",
              "                }\n",
              "                    \n",
              "                .geemap-dark .jupyter-button {\n",
              "                    --jp-layout-color3: #383838;\n",
              "                }\n",
              "                \n",
              "                .geemap-colab {\n",
              "                    background-color: var(--colab-primary-surface-color, white);\n",
              "                }\n",
              "                    \n",
              "                .geemap-colab .jupyter-button {\n",
              "                    --jp-layout-color3: var(--colab-primary-surface-color, white);\n",
              "                }\n",
              "            </style>\n",
              "            "
            ]
          },
          "metadata": {}
        }
      ],
      "source": [
        "# Import the Folium library.\n",
        "import folium\n",
        "import ee\n",
        "\n",
        "# Define a method for displaying Earth Engine image tiles to folium map.\n",
        "def add_ee_layer(self, ee_image_object, vis_params, name):\n",
        "  map_id_dict = ee.Image(ee_image_object).getMapId(vis_params)\n",
        "  folium.raster_layers.TileLayer(\n",
        "    tiles = map_id_dict['tile_fetcher'].url_format,\n",
        "    attr = 'Map Data &copy; <a href=\"https://earthengine.google.com/\">Google Earth Engine</a>',\n",
        "    name = name,\n",
        "    overlay = True,\n",
        "    control = True\n",
        "  ).add_to(self)\n",
        "\n"
      ]
    },
    {
      "cell_type": "code",
      "execution_count": null,
      "metadata": {
        "id": "L2LV2wOa7aqd"
      },
      "outputs": [],
      "source": [
        "# install required libraries\n",
        "!pip install -q rasterio\n",
        "!pip install -q geopandas\n",
        "!pip install git+https://github.com/tensorflow/examples.git\n",
        "!pip install -U tfds-nightly\n",
        "!pip install focal-loss\n",
        "\n",
        "!pip install sentinelsat\n",
        "!pip install folium\n",
        "!apt install gdal-bin python-gdal python3-gdal\n",
        "!apt install python3-rtree\n",
        "!pip install git+git://github.com/geopandas/geopandas.git\n",
        "!pip install descartes\n",
        "!pip install wxee\n",
        "!pip install patchify # install patchify tool into the environment\n",
        "\n",
        "!pip install geotile\n",
        "!pip install split-folders"
      ]
    },
    {
      "cell_type": "code",
      "execution_count": null,
      "metadata": {
        "id": "IVaBRhHn7q2i",
        "colab": {
          "base_uri": "https://localhost:8080/",
          "height": 17
        },
        "outputId": "951e4a31-e175-410d-8ea2-06fbe0f26a83"
      },
      "outputs": [
        {
          "output_type": "display_data",
          "data": {
            "text/plain": [
              "<IPython.core.display.HTML object>"
            ],
            "text/html": [
              "\n",
              "            <style>\n",
              "                .geemap-dark {\n",
              "                    --jp-widgets-color: white;\n",
              "                    --jp-widgets-label-color: white;\n",
              "                    --jp-ui-font-color1: white;\n",
              "                    --jp-layout-color2: #454545;\n",
              "                    background-color: #383838;\n",
              "                }\n",
              "                    \n",
              "                .geemap-dark .jupyter-button {\n",
              "                    --jp-layout-color3: #383838;\n",
              "                }\n",
              "                \n",
              "                .geemap-colab {\n",
              "                    background-color: var(--colab-primary-surface-color, white);\n",
              "                }\n",
              "                    \n",
              "                .geemap-colab .jupyter-button {\n",
              "                    --jp-layout-color3: var(--colab-primary-surface-color, white);\n",
              "                }\n",
              "            </style>\n",
              "            "
            ]
          },
          "metadata": {}
        }
      ],
      "source": [
        "# import required libraries\n",
        "import os, glob, functools, fnmatch\n",
        "from zipfile import ZipFile\n",
        "from itertools import product\n",
        "\n",
        "import numpy as np\n",
        "import matplotlib.pyplot as plt\n",
        "import matplotlib as mpl\n",
        "mpl.rcParams['axes.grid'] = False\n",
        "mpl.rcParams['figure.figsize'] = (12,12)\n",
        "\n",
        "from sklearn.model_selection import train_test_split\n",
        "import matplotlib.image as mpimg\n",
        "import pandas as pd\n",
        "from PIL import Image\n",
        "\n",
        "import rasterio\n",
        "from rasterio import features, mask, windows\n",
        "\n",
        "import geopandas as gpd\n",
        "\n",
        "import tensorflow as tf\n",
        "from tensorflow.python.keras import layers, losses, models\n",
        "from tensorflow.python.keras import backend as K\n",
        "#import tensorflow_addons as tfa\n",
        "\n",
        "from tensorflow_examples.models.pix2pix import pix2pix\n",
        "\n",
        "import tensorflow_datasets as tfds\n",
        "tfds.disable_progress_bar()\n",
        "\n",
        "from IPython.display import clear_output\n",
        "\n",
        "from focal_loss import SparseCategoricalFocalLoss\n",
        "from sklearn.metrics import confusion_matrix, f1_score\n",
        "\n",
        "# Import the necessary libraries\n",
        "from PIL import Image\n",
        "from numpy import asarray"
      ]
    },
    {
      "cell_type": "code",
      "execution_count": null,
      "metadata": {
        "colab": {
          "base_uri": "https://localhost:8080/",
          "height": 34
        },
        "id": "OnnEvyaE7y3e",
        "outputId": "aac65cd3-2673-4dec-92e3-51a7b8a4f851"
      },
      "outputs": [
        {
          "output_type": "display_data",
          "data": {
            "text/plain": [
              "<IPython.core.display.HTML object>"
            ],
            "text/html": [
              "\n",
              "            <style>\n",
              "                .geemap-dark {\n",
              "                    --jp-widgets-color: white;\n",
              "                    --jp-widgets-label-color: white;\n",
              "                    --jp-ui-font-color1: white;\n",
              "                    --jp-layout-color2: #454545;\n",
              "                    background-color: #383838;\n",
              "                }\n",
              "                    \n",
              "                .geemap-dark .jupyter-button {\n",
              "                    --jp-layout-color3: #383838;\n",
              "                }\n",
              "                \n",
              "                .geemap-colab {\n",
              "                    background-color: var(--colab-primary-surface-color, white);\n",
              "                }\n",
              "                    \n",
              "                .geemap-colab .jupyter-button {\n",
              "                    --jp-layout-color3: var(--colab-primary-surface-color, white);\n",
              "                }\n",
              "            </style>\n",
              "            "
            ]
          },
          "metadata": {}
        },
        {
          "output_type": "stream",
          "name": "stdout",
          "text": [
            "Drive already mounted at /content/drive; to attempt to forcibly remount, call drive.mount(\"/content/drive\", force_remount=True).\n"
          ]
        }
      ],
      "source": [
        "# mount google drive\n",
        "from google.colab import drive\n",
        "drive.mount('/content/drive')"
      ]
    },
    {
      "cell_type": "code",
      "execution_count": null,
      "metadata": {
        "id": "-MK5G3Th77ki",
        "colab": {
          "base_uri": "https://localhost:8080/",
          "height": 17
        },
        "outputId": "0d4aac56-13de-4e64-d638-9863f63932e1"
      },
      "outputs": [
        {
          "output_type": "display_data",
          "data": {
            "text/plain": [
              "<IPython.core.display.HTML object>"
            ],
            "text/html": [
              "\n",
              "            <style>\n",
              "                .geemap-dark {\n",
              "                    --jp-widgets-color: white;\n",
              "                    --jp-widgets-label-color: white;\n",
              "                    --jp-ui-font-color1: white;\n",
              "                    --jp-layout-color2: #454545;\n",
              "                    background-color: #383838;\n",
              "                }\n",
              "                    \n",
              "                .geemap-dark .jupyter-button {\n",
              "                    --jp-layout-color3: #383838;\n",
              "                }\n",
              "                \n",
              "                .geemap-colab {\n",
              "                    background-color: var(--colab-primary-surface-color, white);\n",
              "                }\n",
              "                    \n",
              "                .geemap-colab .jupyter-button {\n",
              "                    --jp-layout-color3: var(--colab-primary-surface-color, white);\n",
              "                }\n",
              "            </style>\n",
              "            "
            ]
          },
          "metadata": {}
        }
      ],
      "source": [
        "# set your root directory to the shared drive folder\n",
        "# root_dir = '/content/drive/Shared drives/servir-sat-ml/data/'\n",
        "root_dir = '/content/drive/My Drive/'\n",
        "\n",
        "images_Bands = \"KSA_AlUla_SprectralBands_IQR\" # Create dataset folder name"
      ]
    },
    {
      "cell_type": "code",
      "execution_count": null,
      "metadata": {
        "id": "7cnuClf97wvG",
        "colab": {
          "base_uri": "https://localhost:8080/",
          "height": 17
        },
        "outputId": "b3249e0c-92f3-4ea5-816b-bc51a828afdd"
      },
      "outputs": [
        {
          "output_type": "display_data",
          "data": {
            "text/plain": [
              "<IPython.core.display.HTML object>"
            ],
            "text/html": [
              "\n",
              "            <style>\n",
              "                .geemap-dark {\n",
              "                    --jp-widgets-color: white;\n",
              "                    --jp-widgets-label-color: white;\n",
              "                    --jp-ui-font-color1: white;\n",
              "                    --jp-layout-color2: #454545;\n",
              "                    background-color: #383838;\n",
              "                }\n",
              "                    \n",
              "                .geemap-dark .jupyter-button {\n",
              "                    --jp-layout-color3: #383838;\n",
              "                }\n",
              "                \n",
              "                .geemap-colab {\n",
              "                    background-color: var(--colab-primary-surface-color, white);\n",
              "                }\n",
              "                    \n",
              "                .geemap-colab .jupyter-button {\n",
              "                    --jp-layout-color3: var(--colab-primary-surface-color, white);\n",
              "                }\n",
              "            </style>\n",
              "            "
            ]
          },
          "metadata": {}
        }
      ],
      "source": [
        "#Al_Ula = ee.FeatureCollection(\"projects/ee-frednumbisi/assets/SAU_Al-Ula\")\n",
        "\n",
        "Al_Ula = ee.FeatureCollection(\"projects/ee-frednumbisi/assets/AlUla_AOIProject\")\n",
        "\n",
        "#Al_UlaROI = ee.Geometry.Polygon(ee.FeatureCollection(\"projects/ee-frednumbisi/assets/AlUla_BoundaryAOI\"))\n",
        "\n",
        "Al_UlaROI = Al_Ula.geometry()"
      ]
    },
    {
      "cell_type": "code",
      "execution_count": null,
      "metadata": {
        "id": "M1H_-qSo-Hfq"
      },
      "outputs": [],
      "source": [
        "# set your root directory to your personal drive folder for file writes, so we don't overwrite each other\n",
        "# We recommend you make a subfolder to keep your work.\n",
        "#personal_dir = '/content/gdrive/My Drive/croptype/'\n",
        "\n",
        "#personal_AlUla = '/content/drive/My Drive/RBGE_AlUla/AlUlaAOI/'\n",
        "\n",
        "# We recommend you make a subfolder to keep your work.\n",
        "\n",
        "#personal_Ashar = '/content/gdrive/My Drive/AsharLULCResults/'\n",
        "\n",
        "\n",
        "#Refclass_dir = '/content/drive/My Drive/WAsharRefLULC2/'\n",
        "\n",
        "#target_crs = 'epsg:32637' # UTM Zone 37N for KSA and AlUla\n"
      ]
    },
    {
      "cell_type": "code",
      "execution_count": null,
      "metadata": {
        "colab": {
          "base_uri": "https://localhost:8080/",
          "height": 34
        },
        "id": "qhFB7sHn-Ps2",
        "outputId": "b380eb13-fd39-47af-d6eb-fde515e51d6e"
      },
      "outputs": [
        {
          "output_type": "display_data",
          "data": {
            "text/plain": [
              "<IPython.core.display.HTML object>"
            ],
            "text/html": [
              "\n",
              "            <style>\n",
              "                .geemap-dark {\n",
              "                    --jp-widgets-color: white;\n",
              "                    --jp-widgets-label-color: white;\n",
              "                    --jp-ui-font-color1: white;\n",
              "                    --jp-layout-color2: #454545;\n",
              "                    background-color: #383838;\n",
              "                }\n",
              "                    \n",
              "                .geemap-dark .jupyter-button {\n",
              "                    --jp-layout-color3: #383838;\n",
              "                }\n",
              "                \n",
              "                .geemap-colab {\n",
              "                    background-color: var(--colab-primary-surface-color, white);\n",
              "                }\n",
              "                    \n",
              "                .geemap-colab .jupyter-button {\n",
              "                    --jp-layout-color3: var(--colab-primary-surface-color, white);\n",
              "                }\n",
              "            </style>\n",
              "            "
            ]
          },
          "metadata": {}
        },
        {
          "output_type": "stream",
          "name": "stdout",
          "text": [
            "/content/drive/My Drive\n"
          ]
        }
      ],
      "source": [
        "# go to root directory\n",
        "%cd $root_dir"
      ]
    },
    {
      "cell_type": "markdown",
      "metadata": {
        "id": "fjsGHoeu-Yql"
      },
      "source": [
        "### Enabling GPU\n",
        "\n",
        "This notebook can utilize a GPU and works better if you use one. Hopefully this notebook is using a GPU, and we can check with the following code.\n",
        "\n",
        "If it's not using a GPU you can change your session/notebook to use a GPU."
      ]
    },
    {
      "cell_type": "code",
      "execution_count": null,
      "metadata": {
        "colab": {
          "base_uri": "https://localhost:8080/",
          "height": 52
        },
        "id": "t9WjzQl--aba",
        "outputId": "64f17074-89ab-4a4d-db89-db40d5126fa5"
      },
      "outputs": [
        {
          "output_type": "display_data",
          "data": {
            "text/plain": [
              "<IPython.core.display.HTML object>"
            ],
            "text/html": [
              "\n",
              "            <style>\n",
              "                .geemap-dark {\n",
              "                    --jp-widgets-color: white;\n",
              "                    --jp-widgets-label-color: white;\n",
              "                    --jp-ui-font-color1: white;\n",
              "                    --jp-layout-color2: #454545;\n",
              "                    background-color: #383838;\n",
              "                }\n",
              "                    \n",
              "                .geemap-dark .jupyter-button {\n",
              "                    --jp-layout-color3: #383838;\n",
              "                }\n",
              "                \n",
              "                .geemap-colab {\n",
              "                    background-color: var(--colab-primary-surface-color, white);\n",
              "                }\n",
              "                    \n",
              "                .geemap-colab .jupyter-button {\n",
              "                    --jp-layout-color3: var(--colab-primary-surface-color, white);\n",
              "                }\n",
              "            </style>\n",
              "            "
            ]
          },
          "metadata": {}
        },
        {
          "output_type": "stream",
          "name": "stdout",
          "text": [
            "Colab only includes TensorFlow 2.x; %tensorflow_version has no effect.\n",
            "Found GPU at: /device:GPU:0\n"
          ]
        }
      ],
      "source": [
        "%tensorflow_version 2.x\n",
        "import tensorflow as tf\n",
        "device_name = tf.test.gpu_device_name()\n",
        "if device_name != '/device:GPU:0':\n",
        "  raise SystemError('GPU device not found')\n",
        "print('Found GPU at: {}'.format(device_name))"
      ]
    },
    {
      "cell_type": "markdown",
      "metadata": {
        "id": "_DUDHIirt7X4"
      },
      "source": [
        "### FASTER GPU\n",
        "\n",
        "You can see what GPU you've been assigned at any time by executing the following cell. If the execution result of running the code cell below is 'Not connected to a GPU', you can change the runtime by going to <code>Runtime &gt; Change runtime type</code> in the menu to enable a GPU accelerator, and then re-execute the code cell."
      ]
    },
    {
      "cell_type": "code",
      "execution_count": null,
      "metadata": {
        "colab": {
          "base_uri": "https://localhost:8080/",
          "height": 364
        },
        "id": "vOYEFPYht6f-",
        "outputId": "3173244a-ff91-49ae-96cf-1c3b0c9043d2"
      },
      "outputs": [
        {
          "output_type": "display_data",
          "data": {
            "text/plain": [
              "<IPython.core.display.HTML object>"
            ],
            "text/html": [
              "\n",
              "            <style>\n",
              "                .geemap-dark {\n",
              "                    --jp-widgets-color: white;\n",
              "                    --jp-widgets-label-color: white;\n",
              "                    --jp-ui-font-color1: white;\n",
              "                    --jp-layout-color2: #454545;\n",
              "                    background-color: #383838;\n",
              "                }\n",
              "                    \n",
              "                .geemap-dark .jupyter-button {\n",
              "                    --jp-layout-color3: #383838;\n",
              "                }\n",
              "                \n",
              "                .geemap-colab {\n",
              "                    background-color: var(--colab-primary-surface-color, white);\n",
              "                }\n",
              "                    \n",
              "                .geemap-colab .jupyter-button {\n",
              "                    --jp-layout-color3: var(--colab-primary-surface-color, white);\n",
              "                }\n",
              "            </style>\n",
              "            "
            ]
          },
          "metadata": {}
        },
        {
          "output_type": "stream",
          "name": "stdout",
          "text": [
            "Wed Nov 22 14:17:45 2023       \n",
            "+-----------------------------------------------------------------------------+\n",
            "| NVIDIA-SMI 525.105.17   Driver Version: 525.105.17   CUDA Version: 12.0     |\n",
            "|-------------------------------+----------------------+----------------------+\n",
            "| GPU  Name        Persistence-M| Bus-Id        Disp.A | Volatile Uncorr. ECC |\n",
            "| Fan  Temp  Perf  Pwr:Usage/Cap|         Memory-Usage | GPU-Util  Compute M. |\n",
            "|                               |                      |               MIG M. |\n",
            "|===============================+======================+======================|\n",
            "|   0  Tesla T4            Off  | 00000000:00:04.0 Off |                    0 |\n",
            "| N/A   46C    P8    10W /  70W |      0MiB / 15360MiB |      0%      Default |\n",
            "|                               |                      |                  N/A |\n",
            "+-------------------------------+----------------------+----------------------+\n",
            "                                                                               \n",
            "+-----------------------------------------------------------------------------+\n",
            "| Processes:                                                                  |\n",
            "|  GPU   GI   CI        PID   Type   Process name                  GPU Memory |\n",
            "|        ID   ID                                                   Usage      |\n",
            "|=============================================================================|\n",
            "|  No running processes found                                                 |\n",
            "+-----------------------------------------------------------------------------+\n"
          ]
        }
      ],
      "source": [
        "# Run Code to See Assigned GPUs\n",
        "gpu_info = !nvidia-smi\n",
        "gpu_info = '\\n'.join(gpu_info)\n",
        "if gpu_info.find('failed') >= 0:\n",
        "  print('Not connected to a GPU')\n",
        "else:\n",
        "  print(gpu_info)"
      ]
    },
    {
      "cell_type": "markdown",
      "metadata": {
        "id": "RVbv38FTuThz"
      },
      "source": [
        "### More Memory Allocation\n",
        "\n",
        "Users who have purchased one of Colab's paid plans have access to high-memory VMs when they are available.\n",
        "\n",
        "See how much memory you have available at any time by running the following code cell. If the execution result of running the code cell below is 'Not using a high-RAM runtime', then you can enable a high-RAM runtime via <code>Runtime &gt; Change runtime type</code> in the menu. Then select High-RAM in the Runtime shape drop-down. After, re-execute the code cell."
      ]
    },
    {
      "cell_type": "code",
      "execution_count": null,
      "metadata": {
        "colab": {
          "base_uri": "https://localhost:8080/",
          "height": 69
        },
        "id": "HIvrRQt_uYLC",
        "outputId": "29f0fcee-b4a0-407c-90b7-acfe0669dd2e"
      },
      "outputs": [
        {
          "output_type": "display_data",
          "data": {
            "text/plain": [
              "<IPython.core.display.HTML object>"
            ],
            "text/html": [
              "\n",
              "            <style>\n",
              "                .geemap-dark {\n",
              "                    --jp-widgets-color: white;\n",
              "                    --jp-widgets-label-color: white;\n",
              "                    --jp-ui-font-color1: white;\n",
              "                    --jp-layout-color2: #454545;\n",
              "                    background-color: #383838;\n",
              "                }\n",
              "                    \n",
              "                .geemap-dark .jupyter-button {\n",
              "                    --jp-layout-color3: #383838;\n",
              "                }\n",
              "                \n",
              "                .geemap-colab {\n",
              "                    background-color: var(--colab-primary-surface-color, white);\n",
              "                }\n",
              "                    \n",
              "                .geemap-colab .jupyter-button {\n",
              "                    --jp-layout-color3: var(--colab-primary-surface-color, white);\n",
              "                }\n",
              "            </style>\n",
              "            "
            ]
          },
          "metadata": {}
        },
        {
          "output_type": "stream",
          "name": "stdout",
          "text": [
            "Your runtime has 54.8 gigabytes of available RAM\n",
            "\n",
            "You are using a high-RAM runtime!\n"
          ]
        }
      ],
      "source": [
        "# Check Allocated Memory or RAM\n",
        "\n",
        "from psutil import virtual_memory\n",
        "ram_gb = virtual_memory().total / 1e9\n",
        "print('Your runtime has {:.1f} gigabytes of available RAM\\n'.format(ram_gb))\n",
        "\n",
        "if ram_gb < 20:\n",
        "  print('Not using a high-RAM runtime')\n",
        "else:\n",
        "  print('You are using a high-RAM runtime!')"
      ]
    },
    {
      "cell_type": "code",
      "execution_count": null,
      "metadata": {
        "colab": {
          "base_uri": "https://localhost:8080/"
        },
        "id": "hRgUhDmJN8_X",
        "outputId": "e0b82b85-0424-4bf0-8137-18609384cdc5"
      },
      "outputs": [
        {
          "output_type": "stream",
          "name": "stdout",
          "text": [
            "total 36G\n",
            "-rw------- 1 root root 1.4G Nov 21 17:12 2023AlUla_IQR_image_B2max.tif\n",
            "-rw------- 1 root root 2.9G Nov 21 08:14 2023AlUla_IQR_image_B2mean.tif\n",
            "-rw------- 1 root root 1.4G Nov 21 13:11 2023AlUla_IQR_image_B2min.tif\n",
            "-rw------- 1 root root 3.0G Nov 21 20:41 2023AlUla_IQR_image_B2std.tif\n",
            "-rw------- 1 root root 1.4G Nov 21 16:29 2023AlUla_IQR_image_B3max.tif\n",
            "-rw------- 1 root root 3.0G Nov 21 00:55 2023AlUla_IQR_image_B3mean.tif\n",
            "-rw------- 1 root root 1.5G Nov 21 12:19 2023AlUla_IQR_image_B3min.tif\n",
            "-rw------- 1 root root 3.1G Nov 21 19:47 2023AlUla_IQR_image_B3std.tif\n",
            "-rw------- 1 root root 1.5G Nov 21 15:03 2023AlUla_IQR_image_B4max.tif\n",
            "-rw------- 1 root root 3.0G Nov 20 23:35 2023AlUla_IQR_image_B4mean.tif\n",
            "-rw------- 1 root root 1.6G Nov 21 10:52 2023AlUla_IQR_image_B4min.tif\n",
            "-rw------- 1 root root 3.1G Nov 21 18:38 2023AlUla_IQR_image_B4std.tif\n",
            "-rw------- 1 root root 1.6G Nov 21 17:51 2023AlUla_IQR_image_B8max.tif\n",
            "-rw------- 1 root root 3.0G Nov 21 09:16 2023AlUla_IQR_image_B8mean.tif\n",
            "-rw------- 1 root root 1.6G Nov 21 14:08 2023AlUla_IQR_image_B8min.tif\n",
            "-rw------- 1 root root 3.1G Nov 21 21:26 2023AlUla_IQR_image_B8std.tif\n"
          ]
        }
      ],
      "source": [
        "!ls -lah '/content/drive/My Drive/KSA_AlUla_SprectralBands_IQR'\n",
        "#!ls -lah personal_dir"
      ]
    },
    {
      "cell_type": "code",
      "execution_count": null,
      "metadata": {
        "id": "AJZ2lcXdoeO_"
      },
      "outputs": [],
      "source": [
        "# Access the image files in directory\n",
        "# Use the OpenCV library to read the image files in the \"images\" folder\n",
        "\n",
        "import os\n",
        "import cv2 # cv2 is already installed in the Colab Environment\n",
        "from PIL import Image\n",
        "import numpy as np\n",
        "import rasterio\n",
        "from patchify import patchify # to creat image patches to specific patch size\n",
        "from sklearn.preprocessing import minmax_scale, StandardScaler, MinMaxScaler\n",
        "\n",
        "from matplotlib import pyplot as plt\n",
        "\n",
        "import re"
      ]
    },
    {
      "cell_type": "code",
      "execution_count": null,
      "metadata": {
        "id": "IaXmXNlP8IBV"
      },
      "outputs": [],
      "source": [
        "#%matplotlib inline\n",
        "\n",
        "from sklearn.decomposition import PCA\n",
        "import geopandas as gpd\n",
        "import numpy as np\n",
        "import pandas as pd\n",
        "import cv2 as cv\n",
        "from google.colab.patches import cv2_imshow\n",
        "from osgeo import gdal\n",
        "from sklearn.preprocessing import minmax_scale, StandardScaler, MinMaxScaler\n",
        "\n",
        "import json\n",
        "import wxee\n",
        "import ee\n",
        "import geemap\n",
        "#import sklearn_flatten, sklearn_unflatten\n"
      ]
    },
    {
      "cell_type": "code",
      "execution_count": null,
      "metadata": {
        "id": "h6xU22lnRS8_"
      },
      "outputs": [],
      "source": [
        "#minmaxscaler = MinMaxScaler()"
      ]
    },
    {
      "cell_type": "code",
      "execution_count": null,
      "metadata": {
        "colab": {
          "base_uri": "https://localhost:8080/",
          "height": 312
        },
        "id": "5Mo7e2gjpW5c",
        "outputId": "17e6a677-8ecb-4c9d-cd01-5d56028a52f7"
      },
      "outputs": [
        {
          "output_type": "display_data",
          "data": {
            "text/plain": [
              "<IPython.core.display.HTML object>"
            ],
            "text/html": [
              "\n",
              "            <style>\n",
              "                .geemap-dark {\n",
              "                    --jp-widgets-color: white;\n",
              "                    --jp-widgets-label-color: white;\n",
              "                    --jp-ui-font-color1: white;\n",
              "                    --jp-layout-color2: #454545;\n",
              "                    background-color: #383838;\n",
              "                }\n",
              "                    \n",
              "                .geemap-dark .jupyter-button {\n",
              "                    --jp-layout-color3: #383838;\n",
              "                }\n",
              "                \n",
              "                .geemap-colab {\n",
              "                    background-color: var(--colab-primary-surface-color, white);\n",
              "                }\n",
              "                    \n",
              "                .geemap-colab .jupyter-button {\n",
              "                    --jp-layout-color3: var(--colab-primary-surface-color, white);\n",
              "                }\n",
              "            </style>\n",
              "            "
            ]
          },
          "metadata": {}
        },
        {
          "output_type": "stream",
          "name": "stdout",
          "text": [
            "16\n",
            "2023AlUla_IQR_image_B4mean.tif\n",
            "2023AlUla_IQR_image_B3mean.tif\n",
            "2023AlUla_IQR_image_B2mean.tif\n",
            "2023AlUla_IQR_image_B8mean.tif\n",
            "2023AlUla_IQR_image_B4min.tif\n",
            "2023AlUla_IQR_image_B3min.tif\n",
            "2023AlUla_IQR_image_B2min.tif\n",
            "2023AlUla_IQR_image_B8min.tif\n",
            "2023AlUla_IQR_image_B4max.tif\n",
            "2023AlUla_IQR_image_B3max.tif\n",
            "2023AlUla_IQR_image_B2max.tif\n",
            "2023AlUla_IQR_image_B8max.tif\n",
            "2023AlUla_IQR_image_B4std.tif\n",
            "2023AlUla_IQR_image_B3std.tif\n",
            "2023AlUla_IQR_image_B2std.tif\n",
            "2023AlUla_IQR_image_B8std.tif\n"
          ]
        }
      ],
      "source": [
        "\n",
        "images_Bands = \"KSA_AlUla_SprectralBands_IQR\" # Create dataset folder name\n",
        "\n",
        "\n",
        "\n",
        "imagesList = [] # create empty list\n",
        "\n",
        "# Use the root directory folder and dataset folder names to source the image files\n",
        "# use the os method to read the images in the folders\n",
        "# use the \"os.walk\" method to select a particular folder: returns the paths, subdirectories and files for the selected folder\n",
        "\n",
        "#for path, subdirs, files in os.walk(root_dir): # get information for the root directory\n",
        "for path, subdirs, files in os.walk(os.path.join(root_dir, images_Bands)): # get information for the specified images directory\n",
        "  dir_name = path.split(os.path.sep)[-1] # get the names of all directories in the root folder\n",
        "  #print(dir_name)\n",
        "  # if dir_name == 'Images': # can also use 'masks'\n",
        "  StDevimages = os.listdir(path)# get the list of images in the path\n",
        "  #print(StDevimages)\n",
        "  print(len(StDevimages))\n",
        "  for i, image_name in enumerate(StDevimages):\n",
        "    if (image_name.endswith('.tif')): #can also specify '.png' if dir_names == 'masks'\n",
        "      print(image_name) # enumerate and print each image name\n",
        "\n",
        "      a = True # to avoid seeing the output\n",
        "\n",
        "\n",
        "\n"
      ]
    },
    {
      "cell_type": "code",
      "execution_count": null,
      "metadata": {
        "id": "C0Lju5CSucII"
      },
      "outputs": [],
      "source": [
        "!pip install sentinelsat\n",
        "!pip install rasterio\n",
        "!pip install folium\n",
        "!apt install gdal-bin python-gdal python3-gdal\n",
        "!apt install python3-rtree\n",
        "!pip install git+git://github.com/geopandas/geopandas.git\n",
        "!pip install descartes"
      ]
    },
    {
      "cell_type": "code",
      "execution_count": null,
      "metadata": {
        "id": "X6u_uAIxubKh",
        "colab": {
          "base_uri": "https://localhost:8080/",
          "height": 17
        },
        "outputId": "b051d058-6552-49de-8471-851ca441dabc"
      },
      "outputs": [
        {
          "output_type": "display_data",
          "data": {
            "text/plain": [
              "<IPython.core.display.HTML object>"
            ],
            "text/html": [
              "\n",
              "            <style>\n",
              "                .geemap-dark {\n",
              "                    --jp-widgets-color: white;\n",
              "                    --jp-widgets-label-color: white;\n",
              "                    --jp-ui-font-color1: white;\n",
              "                    --jp-layout-color2: #454545;\n",
              "                    background-color: #383838;\n",
              "                }\n",
              "                    \n",
              "                .geemap-dark .jupyter-button {\n",
              "                    --jp-layout-color3: #383838;\n",
              "                }\n",
              "                \n",
              "                .geemap-colab {\n",
              "                    background-color: var(--colab-primary-surface-color, white);\n",
              "                }\n",
              "                    \n",
              "                .geemap-colab .jupyter-button {\n",
              "                    --jp-layout-color3: var(--colab-primary-surface-color, white);\n",
              "                }\n",
              "            </style>\n",
              "            "
            ]
          },
          "metadata": {}
        }
      ],
      "source": [
        "import folium\n",
        "import os\n",
        "import numpy as np\n",
        "\n",
        "from sentinelsat import SentinelAPI, read_geojson, geojson_to_wkt\n",
        "import geopandas as gpd\n",
        "import pandas as pd\n",
        "import numpy as np\n",
        "import matplotlib.pyplot as plt\n",
        "\n",
        "from shapely.geometry import MultiPolygon, Polygon\n",
        "import rasterio as rio\n",
        "from rasterio.plot import show\n",
        "import rasterio.mask\n",
        "import fiona"
      ]
    },
    {
      "cell_type": "code",
      "execution_count": null,
      "metadata": {
        "colab": {
          "base_uri": "https://localhost:8080/",
          "height": 295
        },
        "id": "_cfGWYZZ5MTA",
        "outputId": "779a8910-8899-427d-9d4f-8fd59c2b4bf0"
      },
      "outputs": [
        {
          "output_type": "display_data",
          "data": {
            "text/plain": [
              "<IPython.core.display.HTML object>"
            ],
            "text/html": [
              "\n",
              "            <style>\n",
              "                .geemap-dark {\n",
              "                    --jp-widgets-color: white;\n",
              "                    --jp-widgets-label-color: white;\n",
              "                    --jp-ui-font-color1: white;\n",
              "                    --jp-layout-color2: #454545;\n",
              "                    background-color: #383838;\n",
              "                }\n",
              "                    \n",
              "                .geemap-dark .jupyter-button {\n",
              "                    --jp-layout-color3: #383838;\n",
              "                }\n",
              "                \n",
              "                .geemap-colab {\n",
              "                    background-color: var(--colab-primary-surface-color, white);\n",
              "                }\n",
              "                    \n",
              "                .geemap-colab .jupyter-button {\n",
              "                    --jp-layout-color3: var(--colab-primary-surface-color, white);\n",
              "                }\n",
              "            </style>\n",
              "            "
            ]
          },
          "metadata": {}
        },
        {
          "output_type": "stream",
          "name": "stdout",
          "text": [
            "2023AlUla_IQR_image_B4mean.tif\n",
            "2023AlUla_IQR_image_B3mean.tif\n",
            "2023AlUla_IQR_image_B2mean.tif\n",
            "2023AlUla_IQR_image_B8mean.tif\n",
            "2023AlUla_IQR_image_B4min.tif\n",
            "2023AlUla_IQR_image_B3min.tif\n",
            "2023AlUla_IQR_image_B2min.tif\n",
            "2023AlUla_IQR_image_B8min.tif\n",
            "2023AlUla_IQR_image_B4max.tif\n",
            "2023AlUla_IQR_image_B3max.tif\n",
            "2023AlUla_IQR_image_B2max.tif\n",
            "2023AlUla_IQR_image_B8max.tif\n",
            "2023AlUla_IQR_image_B4std.tif\n",
            "2023AlUla_IQR_image_B3std.tif\n",
            "2023AlUla_IQR_image_B2std.tif\n",
            "2023AlUla_IQR_image_B8std.tif\n"
          ]
        }
      ],
      "source": [
        "# To Print All Files in the specified Directory that contain \"IQR_image\" in it name and has the extension .tif\n",
        "\n",
        "import fnmatch\n",
        "import os\n",
        "\n",
        "for file in os.listdir(os.path.join(root_dir, images_Bands)):\n",
        "  if fnmatch.fnmatch(file, '*IQR_image*.tif'):\n",
        "    print(file)\n",
        "\n",
        "\n"
      ]
    },
    {
      "cell_type": "markdown",
      "metadata": {
        "id": "GG0mDaKptoBm"
      },
      "source": [
        "Use Shapely Python library since our data is in Shapefiles and read it already as Geopandas GeodataFrame. (Note that if you have Geojson data, Sentinelsat provides a handy way to convert your data into a proper format in the query)."
      ]
    },
    {
      "cell_type": "code",
      "execution_count": null,
      "metadata": {
        "id": "zCWVdO7WDVjY",
        "colab": {
          "base_uri": "https://localhost:8080/",
          "height": 17
        },
        "outputId": "2a6bd3ba-e37c-44d3-ebac-df434a304076"
      },
      "outputs": [
        {
          "output_type": "display_data",
          "data": {
            "text/plain": [
              "<IPython.core.display.HTML object>"
            ],
            "text/html": [
              "\n",
              "            <style>\n",
              "                .geemap-dark {\n",
              "                    --jp-widgets-color: white;\n",
              "                    --jp-widgets-label-color: white;\n",
              "                    --jp-ui-font-color1: white;\n",
              "                    --jp-layout-color2: #454545;\n",
              "                    background-color: #383838;\n",
              "                }\n",
              "                    \n",
              "                .geemap-dark .jupyter-button {\n",
              "                    --jp-layout-color3: #383838;\n",
              "                }\n",
              "                \n",
              "                .geemap-colab {\n",
              "                    background-color: var(--colab-primary-surface-color, white);\n",
              "                }\n",
              "                    \n",
              "                .geemap-colab .jupyter-button {\n",
              "                    --jp-layout-color3: var(--colab-primary-surface-color, white);\n",
              "                }\n",
              "            </style>\n",
              "            "
            ]
          },
          "metadata": {}
        }
      ],
      "source": [
        "# set variables for sentinel 2 timstamps and local coordinate reference system\n",
        "#root_dir = './'\n",
        "\n",
        "VIbandsIQR_Dir = 'KSA_AlUla_SprectralBands_IQR'\n",
        "\n",
        "VIindex_IMGstamps = ['AlUla_VIstdDevIQR_stack.tif', 'AlUla_VImeanIQR_stack.tif']\n",
        "\n",
        "test_sentinel_timestamp = ['2017-07-10']\n",
        "\n",
        "target_crs2 = 'epsg:3857' #PseudoMercator"
      ]
    },
    {
      "cell_type": "code",
      "execution_count": null,
      "metadata": {
        "id": "hiSlAAfgm36x"
      },
      "outputs": [],
      "source": [
        "# # CODE RUNS: commented or do not run to save RAM or Memory\n",
        "\n",
        "# #stackStDevVI = cv2.imread(f'{stackedIQR_dir}/AlUla_VIstdDevIQR_stack.tif')\n",
        "# stackStDevVI = rasterio.open(f'{stackedIQR_dir}/AlUla_VIstdDevIQR_stack.tif').read()\n",
        "\n",
        "# stackStDevVI.shape"
      ]
    },
    {
      "cell_type": "code",
      "execution_count": null,
      "metadata": {
        "id": "YIOoVGv_z-i0"
      },
      "outputs": [],
      "source": [
        "# # Uncomment code block to run scripts: linked to 2 previous code blocks\n",
        "# # Transpose the array to row, columns, bands\n",
        "\n",
        "# stackStDevVIt = stackStDevVI.transpose(1,2,0)\n",
        "\n",
        "# print(stackStDevVIt.shape)\n",
        "# print(type(stackStDevVIt))"
      ]
    },
    {
      "cell_type": "code",
      "execution_count": null,
      "metadata": {
        "id": "NdDkh948F301"
      },
      "outputs": [],
      "source": [
        "# def RGBplot(image, bindex):  # band index should be in order of r,g,b\n",
        "#   #assumes shape is as obtained above\n",
        "#   img = np.dstack((image[:,:,bindex[0]]/np.percentile(image[:,:,bindex[0]],95),\n",
        "#                   image[:,:,bindex[1]]/np.percentile(image[:,:,bindex[1]],95),\n",
        "#                   image[:,:,bindex[2]]/np.percentile(image[:,:,bindex[2]],95)))\n",
        "#   img = np.clip(img, 0, 1)\n",
        "#   f = plt.figure()\n",
        "#   plt.imshow(np.array(img))\n",
        "#   plt.axis('off')\n",
        "#   plt.show()\n",
        "\n",
        "#Then create the loop to go through your images. For example,\n",
        "\n",
        "# # how you access the folder will depend on your colab setup, naming system, etc\n",
        "# for image in os.listdir(drive):\n",
        "#   if image.endswith('.tif'):\n",
        "#     [img, xsize, ysize, nbands] = loadTiff(os.path.join(drive,image))\n",
        "#     RGBplot(img, [3,2,1])"
      ]
    },
    {
      "cell_type": "code",
      "execution_count": null,
      "metadata": {
        "id": "m4365ma-GX0J"
      },
      "outputs": [],
      "source": [
        "#RGBplot(stackStDevVI, [1,2,5])"
      ]
    },
    {
      "cell_type": "markdown",
      "metadata": {
        "id": "pEHVmKs-O7wp"
      },
      "source": [
        "Get the stacked images. Get the metadata and image for each Band representing the corresponding computed vegetation indices."
      ]
    },
    {
      "cell_type": "code",
      "execution_count": null,
      "metadata": {
        "id": "Dstil2GRKz64"
      },
      "outputs": [],
      "source": [
        "#rasterio.open(f'{root_dir}/{images_StDev}/{image_name}') as src:\n",
        "#      imgNM = src.read() # reads and opens each tiff image as an\n",
        "\n",
        "# def VegIndex_read1(sentinel_timestamp): # images_StDev as example folder\n",
        "#     vegindex_dir = os.path.join(root_dir,sentinel_timestamp)\n",
        "#     #bands = glob.glob(sentinel_dir+'/**/*.tif',recursive=True)\n",
        "\n",
        "#     src_grvi = rasterio.open(f'{vegindex_dir}/AlUla_VIstdDevIQR_stack.tif')\n",
        "#     # array\n",
        "#     arr_grvi = src_grvi.read()\n",
        "\n",
        "#     # convert data type from float23 to 8bits unit (unit8)\n",
        "#     # index_stack = (arr_grvi * 255).astype(np.uint8)\n",
        "\n",
        "#     index_stack = arr_grvi.astype(np.uint8) # convert image type to array of type unit8\n",
        "#     index_stack = np.where(np.isnan(index_stack), 0, index_stack) # if nan values, convert to zero; otherwise, retain value\n",
        "\n",
        "#     # Transpose the array to row, columns, bands\n",
        "#     index_stack = arr_grvi.transpose(1,2,0)\n",
        "\n",
        "#     return vegindex_dir, index_stack, src_grvi"
      ]
    },
    {
      "cell_type": "code",
      "execution_count": null,
      "metadata": {
        "id": "LcR26EGpbOVa"
      },
      "outputs": [],
      "source": [
        "# This is a trial code block used to create function in the following code block\n",
        "# Uncomment to verify if code runs normally\n",
        "\n",
        "\n",
        "vegindex_dir = os.path.join(root_dir,VIbandsIQR_Dir)\n",
        "    #bands = glob.glob(vegindex_dir+'/**/*.tif',recursive=True)\n",
        "\n",
        "imgDic = {} # Create dictionary to save images or their corresponding metadata\n",
        "\n",
        "for path, subdirs, files in os.walk(vegindex_dir): # get information for the specified images directory\n",
        "  dir_name = path.split(os.path.sep)[-1] # get the names of all directories in the root folder\n",
        "  #print(dir_name)\n",
        "  # if dir_name == 'Images': # can also use 'masks'\n",
        "  StDevimages = os.listdir(path)# get the list of images in the path\n",
        "  #print(StDevimages)\n",
        "\n",
        "  # import fnmatch\n",
        "  # import os\n",
        "\n",
        "  # for file in os.listdir(os.path.join(root_dir, images_StDev)):\n",
        "  #   if fnmatch.fnmatch(file, '*NDVI*.tif'):\n",
        "  #     print(file)\n",
        "\n",
        "\n",
        "\n",
        "  for image_name in StDevimages:\n",
        "    #imgNM = cv2.imread(image_name)\n",
        "      # if image_name.endswith(\".tif\"):\n",
        "    # Read band metadata and arrays\n",
        "    # metadata\n",
        "    #src_2 = rasterio.open(fnmatch.fnmatch(image_name, '*NDVI*.tif')) #blue\n",
        "    count = 1\n",
        "    if fnmatch.fnmatch(image_name,'*IQR_image*.tif'):\n",
        "      src_savi = rasterio.open(f'{vegindex_dir}/{image_name}')\n",
        "      imgDic[count] = src_savi\n",
        "      savi = imgDic[count].read()\n",
        "      count += 1\n",
        "      print(src_savi)\n",
        "      print(image_name)\n",
        "      print(imgDic)\n",
        "      print(savi.shape)"
      ]
    },
    {
      "cell_type": "code",
      "execution_count": null,
      "metadata": {
        "id": "9WegZVlzwMBn",
        "colab": {
          "base_uri": "https://localhost:8080/",
          "height": 17
        },
        "outputId": "d9b1b48d-d08c-447d-a066-2bfbd2bb541a"
      },
      "outputs": [
        {
          "output_type": "display_data",
          "data": {
            "text/plain": [
              "<IPython.core.display.HTML object>"
            ],
            "text/html": [
              "\n",
              "            <style>\n",
              "                .geemap-dark {\n",
              "                    --jp-widgets-color: white;\n",
              "                    --jp-widgets-label-color: white;\n",
              "                    --jp-ui-font-color1: white;\n",
              "                    --jp-layout-color2: #454545;\n",
              "                    background-color: #383838;\n",
              "                }\n",
              "                    \n",
              "                .geemap-dark .jupyter-button {\n",
              "                    --jp-layout-color3: #383838;\n",
              "                }\n",
              "                \n",
              "                .geemap-colab {\n",
              "                    background-color: var(--colab-primary-surface-color, white);\n",
              "                }\n",
              "                    \n",
              "                .geemap-colab .jupyter-button {\n",
              "                    --jp-layout-color3: var(--colab-primary-surface-color, white);\n",
              "                }\n",
              "            </style>\n",
              "            "
            ]
          },
          "metadata": {}
        }
      ],
      "source": [
        "# DEFINE FUNCTION TO READ IMAGES IN TARGET DIRECTORY AND CREATE STACK OF SPECTRAL BANDS\n",
        "\n",
        "import fnmatch\n",
        "import os\n",
        "\n",
        "\n",
        "def SpecBands_read(sentinel_timestamp): # images_StDev as example folder\n",
        "    Bands_dir = os.path.join(root_dir,sentinel_timestamp)\n",
        "    #bands = glob.glob(vegindex_dir+'/**/*.tif',recursive=True)\n",
        "\n",
        "    #global src_sarvi, src_savi, src_ndvi, src_msavi, src_ipvi, src_gsavi, src_grvi\n",
        "\n",
        "    globImages = {} # Create dictionary to hold VI(key) and the reference meta data for each image (Value)\n",
        "\n",
        "    TranformedBands = []\n",
        "\n",
        "    for path, subdirs, files in os.walk(Bands_dir): # get information for the specified images directory\n",
        "      dir_name = path.split(os.path.sep)[-1] # get the names of all directories in the root folder\n",
        "      #print(dir_name)\n",
        "      # if dir_name == 'Images': # can also use 'masks'\n",
        "      StDevimages = os.listdir(path)# get the list of images in the path\n",
        "      #print(StDevimages)\n",
        "\n",
        "      # import fnmatch\n",
        "      # import os\n",
        "\n",
        "      # for file in os.listdir(os.path.join(root_dir, images_StDev)):\n",
        "      #   if fnmatch.fnmatch(file, '*NDVI*.tif'):\n",
        "      #     print(file)\n",
        "\n",
        "\n",
        "\n",
        "      #for i,image_name in enumerate(StDevimages):\n",
        "      for image_name in StDevimages:\n",
        "\n",
        "       #imgNM = cv2.imread(image_name)\n",
        "         # if image_name.endswith(\".tif\"):\n",
        "        # Read band metadata and arrays\n",
        "        # metadata\n",
        "        #src_2 = rasterio.open(fnmatch.fnmatch(image_name, '*NDVI*.tif')) #blue\n",
        "        #count = 1\n",
        "        if fnmatch.fnmatch(image_name,'*image_B4mean.tif'):\n",
        "          src_B4mean = rasterio.open(f'{Bands_dir}/{image_name}')\n",
        "          globImages['B4mean'] = src_B4mean\n",
        "          #count += 1\n",
        "        elif fnmatch.fnmatch(image_name,'*image_B3mean.tif'): # Provided specific prefixes\n",
        "          src_B3mean = rasterio.open(f'{Bands_dir}/{image_name}') #B3mean\n",
        "          globImages['B3mean'] = src_B3mean\n",
        "        elif fnmatch.fnmatch(image_name,'*image_B2mean.tif'):\n",
        "          src_B2mean = rasterio.open(f'{Bands_dir}/{image_name}') #B2mean\n",
        "          globImages['B2mean'] = src_B2mean\n",
        "        elif fnmatch.fnmatch(image_name,'*image_B8mean.tif'):\n",
        "          src_B8mean = rasterio.open(f'{Bands_dir}/{image_name}') #B8mean\n",
        "          globImages['B8mean'] = src_B8mean\n",
        "\n",
        "        elif fnmatch.fnmatch(image_name,'*image_B4std.tif'):\n",
        "          src_B4std = rasterio.open(f'{Bands_dir}/{image_name}') #\n",
        "          globImages['B4std'] = src_B4std\n",
        "        elif fnmatch.fnmatch(image_name,'*image_B3std.tif'):\n",
        "          src_B3std = rasterio.open(f'{Bands_dir}/{image_name}') #\n",
        "          globImages['B3std'] = src_B3std\n",
        "        elif fnmatch.fnmatch(image_name,'*image_B2std.tif'):\n",
        "          src_B2std = rasterio.open(f'{Bands_dir}/{image_name}') #\n",
        "          globImages['B2std'] = src_B2std\n",
        "        elif fnmatch.fnmatch(image_name,'*image_B8std.tif'):\n",
        "          src_B8std = rasterio.open(f'{Bands_dir}/{image_name}') #\n",
        "          globImages['B8std'] = src_B8std\n",
        "\n",
        "        elif fnmatch.fnmatch(image_name,'*image_B4min.tif'):\n",
        "          src_B4min = rasterio.open(f'{Bands_dir}/{image_name}') #B4minn\n",
        "          globImages['B4min'] = src_B4min\n",
        "        elif fnmatch.fnmatch(image_name,'*image_B3min.tif'):\n",
        "          src_B3min = rasterio.open(f'{Bands_dir}/{image_name}') #B3minn\n",
        "          globImages['B3min'] = src_B3min\n",
        "        elif fnmatch.fnmatch(image_name,'*image_B2min.tif'):\n",
        "          src_B2min = rasterio.open(f'{Bands_dir}/{image_name}') #B2minn\n",
        "          globImages['B2min'] = src_B2min\n",
        "        elif fnmatch.fnmatch(image_name,'*image_B8min.tif'):\n",
        "          src_B8min = rasterio.open(f'{Bands_dir}/{image_name}') #B8minn\n",
        "          globImages['B8min'] = src_B8min\n",
        "\n",
        "        elif fnmatch.fnmatch(image_name,'*image_B4max.tif'):\n",
        "          src_B4max = rasterio.open(f'{Bands_dir}/{image_name}') #\n",
        "          globImages['B4max'] = src_B4max\n",
        "        elif fnmatch.fnmatch(image_name,'*image_B3max.tif'):\n",
        "          src_B3max = rasterio.open(f'{Bands_dir}/{image_name}') #\n",
        "          globImages['B3max'] = src_B3max\n",
        "        elif fnmatch.fnmatch(image_name,'*image_B2max.tif'):\n",
        "          src_B2max = rasterio.open(f'{Bands_dir}/{image_name}') #\n",
        "          globImages['B2max'] = src_B2max\n",
        "        elif fnmatch.fnmatch(image_name,'*image_B8max.tif'):\n",
        "          src_B8max = rasterio.open(f'{Bands_dir}/{image_name}') #\n",
        "          globImages['B8max'] = src_B8max\n",
        "\n",
        "\n",
        "    # Read image using the VI \"Key\" to reference the metadata\n",
        "    arr_img1 = globImages['B4mean'].read()\n",
        "    arr_img2 = globImages['B3mean'].read()\n",
        "    arr_img3 = globImages['B2mean'].read()\n",
        "    arr_img4 = globImages['B8mean'].read()\n",
        "    arr_img5 = globImages['B4std'].read()\n",
        "    arr_img6 = globImages['B3std'].read()\n",
        "    arr_img7 = globImages['B2std'].read()\n",
        "    arr_img8 = globImages['B8std'].read()\n",
        "\n",
        "    arr_img9 = globImages['B4min'].read()\n",
        "    arr_img10 = globImages['B3min'].read()\n",
        "    arr_img11 = globImages['B2min'].read()\n",
        "    arr_img12 = globImages['B8min'].read()\n",
        "    arr_img13 = globImages['B4max'].read()\n",
        "    arr_img14 = globImages['B3max'].read()\n",
        "    arr_img15 = globImages['B2max'].read()\n",
        "    arr_img16 = globImages['B8max'].read()\n",
        "\n",
        "\n",
        "    # Covert from float32 to uint8 and Transpose the array to row, columns, bands\n",
        "    tanspIMG1 = arr_img1.astype(np.uint8)#.transpose(1,2,0)\n",
        "    tanspIMG2 = arr_img2.astype(np.uint8)#.transpose(1,2,0)\n",
        "    tanspIMG3 = arr_img3.astype(np.uint8)#.transpose(1,2,0)\n",
        "    tanspIMG4 = arr_img4.astype(np.uint8)#.transpose(1,2,0)\n",
        "    tanspIMG5 = arr_img5.astype(np.uint8)#.transpose(1,2,0)\n",
        "    tanspIMG6 = arr_img6.astype(np.uint8)#.transpose(1,2,0)\n",
        "    tanspIMG7 = arr_img7.astype(np.uint8)#.transpose(1,2,0)\n",
        "    tanspIMG8 = arr_img8.astype(np.uint8)#.transpose(1,2,0)\n",
        "\n",
        "    tanspIMG9 = arr_img9.astype(np.uint8)#.transpose(1,2,0)\n",
        "    tanspIMG10 = arr_img10.astype(np.uint8)#.transpose(1,2,0)\n",
        "    tanspIMG11 = arr_img11.astype(np.uint8)#.transpose(1,2,0)\n",
        "    tanspIMG12 = arr_img12.astype(np.uint8)#.transpose(1,2,0)\n",
        "    tanspIMG13 = arr_img13.astype(np.uint8)#.transpose(1,2,0)\n",
        "    tanspIMG14 = arr_img14.astype(np.uint8)#.transpose(1,2,0)\n",
        "    tanspIMG15 = arr_img15.astype(np.uint8)#.transpose(1,2,0)\n",
        "    tanspIMG16 = arr_img16.astype(np.uint8)#.transpose(1,2,0)\n",
        "\n",
        "\n",
        "\n",
        "\n",
        "    index_stack1 = np.dstack((tanspIMG1, tanspIMG2, tanspIMG3, tanspIMG4))\n",
        "    #index_stack2 = np.dstack((tanspIMG4, tanspIMG5, tanspIMG6, tanspIMG7, tanspIMG8))\n",
        "\n",
        "    #index_stack3 = np.dstack((tanspIMG9, tanspIMG10, tanspIMG11, tanspIMG12))\n",
        "    #index_stack4 = np.dstack((tanspIMG13, tanspIMG14, tanspIMG15, tanspIMG16))\n",
        "\n",
        "    return index_stack1\n",
        "    #return index_stack1, index_stack2"
      ]
    },
    {
      "cell_type": "code",
      "source": [
        "# Run function using folder containing StdDevIQR images\n",
        "# Create 2 rasterstacks: 3 Bands (GRIV, IPVI and MSAVI) and 4 Bands (GSAVI, NDVI, SAVI, SARVI)\n",
        "IQR_bandstack = SpecBands_read(VIbandsIQR_Dir)\n",
        "print(IQR_bandstack.shape)\n",
        "print(type(IQR_bandstack))\n"
      ],
      "metadata": {
        "colab": {
          "base_uri": "https://localhost:8080/",
          "height": 17
        },
        "id": "t3bnoqi4VWrF",
        "outputId": "dbdcc8f7-a67f-4e2a-facd-7ea89f78b9e5"
      },
      "execution_count": null,
      "outputs": [
        {
          "output_type": "display_data",
          "data": {
            "text/plain": [
              "<IPython.core.display.HTML object>"
            ],
            "text/html": [
              "\n",
              "            <style>\n",
              "                .geemap-dark {\n",
              "                    --jp-widgets-color: white;\n",
              "                    --jp-widgets-label-color: white;\n",
              "                    --jp-ui-font-color1: white;\n",
              "                    --jp-layout-color2: #454545;\n",
              "                    background-color: #383838;\n",
              "                }\n",
              "                    \n",
              "                .geemap-dark .jupyter-button {\n",
              "                    --jp-layout-color3: #383838;\n",
              "                }\n",
              "                \n",
              "                .geemap-colab {\n",
              "                    background-color: var(--colab-primary-surface-color, white);\n",
              "                }\n",
              "                    \n",
              "                .geemap-colab .jupyter-button {\n",
              "                    --jp-layout-color3: var(--colab-primary-surface-color, white);\n",
              "                }\n",
              "            </style>\n",
              "            "
            ]
          },
          "metadata": {}
        }
      ]
    },
    {
      "cell_type": "markdown",
      "metadata": {
        "id": "JjsW2bm1_1nG"
      },
      "source": [
        "##**Principal Component Analysis (PCA)**\n",
        "PCA is a very useful technique in improving your supervised classification results. This is a statistical technique that compresses data from a large number of bands into fewer uncorrelated bands. You can run PCA on your image and add the first few (typically 3) principal component bands to the original composite before sampling training points. The variance from the original multi-spectral (e.g. 28-band) image is captured in the 3-band (or 5-band) PCA image. This sends a stronger signal to the classifier and improves accuracy by allowing it to distinguish different classes better.\n",
        "\n",
        "**COMPUTE PCA OF StdDEV OF SPECTRAL BANDS**"
      ]
    },
    {
      "cell_type": "code",
      "source": [
        "# RESHAPING THE DIMENSION\n",
        "\n",
        "# Get the for of the stacked images as array\n",
        "n_samples, nx, ny = IQR_bandstack.shape\n",
        "\n",
        "# Reshape the data from 3D to 2D\n",
        "Bandstack_arr_2D = IQR_bandstack.reshape(n_samples, nx*ny)"
      ],
      "metadata": {
        "id": "U0jRI15rBl9M"
      },
      "execution_count": null,
      "outputs": []
    },
    {
      "cell_type": "code",
      "source": [
        "# DETERMINE THE COMPONENT, STANDARDISE THE VALUES AND FIT TO PCA MODEL\n",
        "\n",
        "# Determine the number of components\n",
        "pcaAnalysis = PCA(n_components = 5)\n",
        "\n",
        "# Scale the 2D data\n",
        "Bandstack_arr_2D_Scaled = MinMaxScaler().fit_transform(Bandstack_arr_2D)\n",
        "\n",
        "# Run the PCA\n",
        "pcaAnalysis.fit(Bandstack_arr_2D_Scaled)"
      ],
      "metadata": {
        "id": "c-vRA4QICoa1"
      },
      "execution_count": null,
      "outputs": []
    },
    {
      "cell_type": "markdown",
      "source": [
        "##Calculate the Covariance, Eigenvalues, Eigenvectors and the Variance-ratio"
      ],
      "metadata": {
        "id": "CsNZYiXUG7FR"
      }
    },
    {
      "cell_type": "code",
      "source": [
        "# Compute Covariance Matrix\n",
        "Covr_Matrix = np.cov(Bandstack_arr_2D_Scaled)\n",
        "\n",
        "# Get the Eigenvalue and Eigenvector\n",
        "Eigen_values, Eigen_vectors = np.linalg.eig(Covr_Matrix)\n",
        "\n",
        "# Get the Variance Ratio\n",
        "var_Ratio = pcaAnalysis.explained_variance_ratio_\n",
        "\n",
        "# Get Variance ratio in percentage\n",
        "varRatio_Perc = []\n",
        "for i in var_Ratio:\n",
        "  percent = (i * 100).round(3)\n",
        "  varRatio_Perc.append(percent)"
      ],
      "metadata": {
        "id": "XiKX59JODcdV"
      },
      "execution_count": null,
      "outputs": []
    },
    {
      "cell_type": "markdown",
      "source": [
        "##Identify Band loadings or contribution to components"
      ],
      "metadata": {
        "id": "ozzrzpvJJAL3"
      }
    },
    {
      "cell_type": "code",
      "source": [
        "# Compunte EigenVector Dataframe\n",
        "EigenVectors_Df = pd.DataFrame(data = Eigen_vectors,\n",
        "                               columns = ['Component1', 'Component2', 'Component3', 'Component4', 'Component5'],\n",
        "                               index = ['Band1', 'Band2', 'Band3', 'Band4', 'Band5', 'Band6', 'Band7', 'Band8'])\n",
        "                              #index = ['Band9', 'Band10', 'Band11', 'Band12', 'Band13', 'Band14', 'Band15', 'Band16'])\n",
        "\n",
        "# Get Eigen vector (contribution of all bands)\n",
        "EigenVectors_Df.round(3)"
      ],
      "metadata": {
        "id": "FyNr5JwpDcNO"
      },
      "execution_count": null,
      "outputs": []
    },
    {
      "cell_type": "markdown",
      "metadata": {
        "id": "z3lkAF0rIO1k"
      },
      "source": [
        "#Extract, Visualise and Export PCA Components as Images"
      ]
    },
    {
      "cell_type": "code",
      "source": [
        "# Fit the pca to scaled data\n",
        "pca_scaled_img = pcaAnalysis.fit_transform(Bandstack_arr_2D_Scaled)\n",
        "\n",
        "# Inverse Component to Original 2D Space\n",
        "image_inversed = pcaAnalysis.inverse_transform(pca_scaled_img)\n",
        "image_scaled = MinMaxScaler(feature_range=(0, 1), copy=True).fit_transform(image_inversed)\n",
        "\n",
        "# Reshape PCA Components back to 3D\n",
        "PCAcomponents = image_scaled.reshape((n_samples, nx, ny))\n",
        "\n",
        "# Verify the Dimensions\n",
        "PCAcomponents.shape, image_inversed.shape\n"
      ],
      "metadata": {
        "id": "YQqoKsmqOkjH"
      },
      "execution_count": null,
      "outputs": []
    },
    {
      "cell_type": "markdown",
      "source": [
        "**Extract the PCA Image Components**"
      ],
      "metadata": {
        "id": "ypQsfrtIQcSo"
      }
    },
    {
      "cell_type": "code",
      "source": [
        "PCA_1 = PCAcomponents[0]\n",
        "PCA_2 = PCAcomponents[1]\n",
        "PCA_3 = PCAcomponents[2]\n",
        "PCA_4 = PCAcomponents[3]\n",
        "PCA_5 = PCAcomponents[4]"
      ],
      "metadata": {
        "id": "2QV-Do6OQhnW"
      },
      "execution_count": null,
      "outputs": []
    },
    {
      "cell_type": "code",
      "execution_count": null,
      "metadata": {
        "id": "leFzKUOw_AK7"
      },
      "outputs": [],
      "source": [
        "PCA_imageBandsIQR2 = { \"image_PCA1\":PCA_1, \"image_PCA2\":PCA_2, \"image_PCA3\":PCA_3}"
      ]
    },
    {
      "cell_type": "code",
      "execution_count": null,
      "metadata": {
        "id": "OSNpSCCb-5E4"
      },
      "outputs": [],
      "source": [
        "# Export the Spectral Band IQR Images\n",
        "for key, value in PCA_imageBandsIQR2.items():\n",
        "  fname = ee.String(key).getInfo()\n",
        "\n",
        "  task = ee.batch.Export.image.toDrive(\n",
        "    #image = Bandname.replace('\"', ''),\n",
        "    #image = Bandname.strip(),\n",
        "    image = value,\n",
        "    region = Al_Ula.geometry().bounds(), # Or use custom ee.Geometry.Rectangle([minlon, minlat, maxlon, maxlat])\n",
        "    description = '2023AlUla_'+fname,\n",
        "    scale = 10,\n",
        "    folder = \"KSA_AlUla_PCABands\",\n",
        "    crs = 'EPSG:4326',\n",
        "    #crs ='EPSG:3857', # UTM CRS for Saudi\n",
        "    #crsTransform = proj[\"transform\"],\n",
        "    maxPixels = 1e13,\n",
        "    fileFormat = \"GeoTIFF\",\n",
        "    formatOptions = {\n",
        "    'cloudOptimized': True\n",
        "  }\n",
        "    )\n",
        "\n",
        "  task.start()\n",
        "\n",
        "  import time\n",
        "\n",
        "  while task.active():\n",
        "    counter = 0\n",
        "    print('Polling for task (id: {}).process: {}'.format(task.id, counter))\n",
        "    counter += 1\n",
        "    time.sleep(5)\n"
      ]
    },
    {
      "cell_type": "markdown",
      "metadata": {
        "id": "uq6hfKxt_ihH"
      },
      "source": [
        "##Create Stack and Export to Google Drive"
      ]
    },
    {
      "cell_type": "code",
      "execution_count": null,
      "metadata": {
        "id": "PL21WX1F_fZW"
      },
      "outputs": [],
      "source": [
        "# Open the first band rasteR\n",
        "# Stacking multiple .tif files into a multiple band stack using Rasterio\n",
        "# Using Rasterio to stack multiple bands without using subprocess commands\n",
        "#\n",
        "\n",
        "import rasterio\n",
        "\n",
        "#file_list = ['file1.tif', 'file2.tif', 'file3.tif']\n",
        "\n",
        "# Read metadata of first file\n",
        "with rasterio.open(VIband_rasters[0]) as src0:\n",
        "    meta = src0.meta\n",
        "\n",
        "# Update meta to reflect the number of layers\n",
        "meta.update(count = len(VIband_rasters))\n",
        "\n",
        "# Read each layer and write it to stack\n",
        "with rasterio.open('VIBandsstack.tif', 'w', **meta) as dst:\n",
        "    for id, layer in enumerate(VIband_rasters, start=1):\n",
        "        with rasterio.open(layer) as src1:\n",
        "            dst.write_band(id, src1.read(1))"
      ]
    },
    {
      "cell_type": "code",
      "execution_count": null,
      "metadata": {
        "id": "yR4JzT9q_Xyw"
      },
      "outputs": [],
      "source": [
        "# Get location of the band rasters images (.tif files) in Google Drive\n",
        "VIbands_folder_path = \"/content/drive/My Drive/KSA_AlUla_SprectralBands_IQR/\"\n",
        "\n",
        "# Get the names of all band rasters in the folder as a list\n",
        "\n",
        "VIband_rasters = [os.path.join(VIbands_folder_path, f) for f in os.listdir(VIbands_folder_path) if f.endswith(\".tif\")]\n"
      ]
    },
    {
      "cell_type": "code",
      "execution_count": null,
      "metadata": {
        "id": "iiQZNaPt9dYp"
      },
      "outputs": [],
      "source": [
        "# Export the image, specifying scale and region.\n",
        "# Export the Standardised IQR Images\n",
        "\n",
        "task = ee.batch.Export.image.toDrive(\n",
        "    image = compositeMeanVIndices,\n",
        "    region = Al_Ula.geometry().bounds(), # Or use custom ee.Geometry.Rectangle([minlon, minlat, maxlon, maxlat])\n",
        "    description = '2023AlUla_MeanVI_PCA',\n",
        "    scale = 10,\n",
        "    folder = \"KSA_AlUla_VIIQR_PCAbands\",\n",
        "    crs = 'EPSG:4326',\n",
        "    #crs ='EPSG:3857', # UTM CRS for Saudi\n",
        "    #crsTransform = proj[\"transform\"],\n",
        "    maxPixels = 1e13,\n",
        "    fileFormat = \"GeoTIFF\",\n",
        "    formatOptions = {\n",
        "    'cloudOptimized': True\n",
        "  }\n",
        "    )\n",
        "\n",
        "task.start()\n",
        "\n",
        "import time\n",
        "while task.active():\n",
        "  print('Polling for task (id: {}).'.format(task.id))\n",
        "  time.sleep(5)"
      ]
    }
  ],
  "metadata": {
    "accelerator": "GPU",
    "colab": {
      "machine_shape": "hm",
      "provenance": [],
      "gpuType": "T4",
      "authorship_tag": "ABX9TyMYJFzXUSzosu62mGJoxvAl",
      "include_colab_link": true
    },
    "kernelspec": {
      "display_name": "Python 3",
      "name": "python3"
    },
    "language_info": {
      "name": "python"
    }
  },
  "nbformat": 4,
  "nbformat_minor": 0
}